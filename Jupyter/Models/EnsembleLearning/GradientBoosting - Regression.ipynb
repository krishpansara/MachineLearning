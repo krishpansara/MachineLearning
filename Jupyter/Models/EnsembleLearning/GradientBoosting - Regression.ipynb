{
 "cells": [
  {
   "cell_type": "code",
   "execution_count": null,
   "id": "31533a44-ff04-4462-bf19-26884626eea9",
   "metadata": {},
   "outputs": [],
   "source": [
    "import pandas as pd\n",
    "import numpy as np\n"
   ]
  },
  {
   "cell_type": "markdown",
   "id": "234a3ca1-20c2-4b47-8919-cdf5378360b5",
   "metadata": {},
   "source": [
    "# Intuition"
   ]
  },
  {
   "cell_type": "code",
   "execution_count": null,
   "id": "d046556f-bc3b-4b6e-b0e5-54a9d0d9c1c3",
   "metadata": {},
   "outputs": [],
   "source": [
    "df = pd.read_csv(\"E:/COADING/MachineLearning/DataSet/50_Startups.csv\")\n",
    "df = df.sample(3).drop(\"State\", axis = 1)\n",
    "df = round(df/1000)\n",
    "df"
   ]
  },
  {
   "cell_type": "code",
   "execution_count": null,
   "id": "ba19833e-57fb-43ea-b109-69047d379c1c",
   "metadata": {},
   "outputs": [],
   "source": [
    "df['f0(x)'] = df['Profit'].mean()\n",
    "df"
   ]
  },
  {
   "cell_type": "code",
   "execution_count": null,
   "id": "abe86c1b-2286-4e4c-8f3f-3b83544f2999",
   "metadata": {},
   "outputs": [],
   "source": [
    "df['r_i1'] = df['Profit'] - df['f0(x)']\n",
    "df"
   ]
  },
  {
   "cell_type": "code",
   "execution_count": null,
   "id": "5ec9c4a9-1b74-4c42-afe6-af63d008564a",
   "metadata": {},
   "outputs": [],
   "source": [
    "from sklearn.tree import DecisionTreeRegressor\n",
    "from sklearn.tree import plot_tree\n",
    "\n",
    "dt1 = DecisionTreeRegressor(max_depth=1)\n",
    "dt1.fit(df.iloc[:,0:3].values, df['r_i1'].values)"
   ]
  },
  {
   "cell_type": "code",
   "execution_count": null,
   "id": "c05eefd3-a543-4096-acb8-99ea7083d191",
   "metadata": {},
   "outputs": [],
   "source": [
    "plot_tree(dt1)"
   ]
  },
  {
   "cell_type": "markdown",
   "id": "2d49f91c-9d34-45be-a208-f995739b0ace",
   "metadata": {},
   "source": [
    "<b>Like this we have to go on further </b>"
   ]
  },
  {
   "cell_type": "code",
   "execution_count": null,
   "id": "e32e5c08-49cc-4096-af14-846d592853d4",
   "metadata": {},
   "outputs": [],
   "source": []
  }
 ],
 "metadata": {
  "kernelspec": {
   "display_name": "Python 3 (ipykernel)",
   "language": "python",
   "name": "python3"
  },
  "language_info": {
   "codemirror_mode": {
    "name": "ipython",
    "version": 3
   },
   "file_extension": ".py",
   "mimetype": "text/x-python",
   "name": "python",
   "nbconvert_exporter": "python",
   "pygments_lexer": "ipython3",
   "version": "3.12.3"
  },
  "widgets": {
   "application/vnd.jupyter.widget-state+json": {
    "state": {},
    "version_major": 2,
    "version_minor": 0
   }
  }
 },
 "nbformat": 4,
 "nbformat_minor": 5
}
