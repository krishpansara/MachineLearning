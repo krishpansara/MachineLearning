{
 "cells": [
  {
   "cell_type": "code",
   "execution_count": 2,
   "id": "18fddcad-7c88-4969-b80a-195c33186281",
   "metadata": {},
   "outputs": [],
   "source": [
    "from sklearn.datasets import load_diabetes\n",
    "from sklearn.linear_model import LinearRegression, Ridge, Lasso, ElasticNet\n",
    "from sklearn.metrics import r2_score\n",
    "from sklearn.model_selection import train_test_split\n"
   ]
  },
  {
   "cell_type": "code",
   "execution_count": 5,
   "id": "468fb45d-07f8-4536-9489-251825fe70fd",
   "metadata": {},
   "outputs": [],
   "source": [
    "X, y = load_diabetes(return_X_y=True)\n",
    "X_train, X_test, y_train, y_test = train_test_split(X, y, train_size=0.2, random_state=2)\n"
   ]
  },
  {
   "cell_type": "markdown",
   "id": "820198f1-0568-433c-9acb-2a57cb8b75d1",
   "metadata": {},
   "source": [
    "# LinearRegression"
   ]
  },
  {
   "cell_type": "code",
   "execution_count": 6,
   "id": "5dd9aade-3931-416a-96b2-6707b1a1f47f",
   "metadata": {},
   "outputs": [
    {
     "data": {
      "text/plain": [
       "0.436332418005151"
      ]
     },
     "execution_count": 6,
     "metadata": {},
     "output_type": "execute_result"
    }
   ],
   "source": [
    "lr = LinearRegression()\n",
    "lr.fit(X_train, y_train)\n",
    "y_pred_lr = lr.predict(X_test)\n",
    "r2_score(y_test, y_pred_lr)"
   ]
  },
  {
   "cell_type": "markdown",
   "id": "da2231c7-e62b-44ad-ac54-69eac0992bd0",
   "metadata": {},
   "source": [
    "# Ridge"
   ]
  },
  {
   "cell_type": "code",
   "execution_count": 7,
   "id": "30c3c585-2fef-4e98-a278-510569c91fdb",
   "metadata": {},
   "outputs": [
    {
     "data": {
      "text/plain": [
       "0.46111619866671383"
      ]
     },
     "execution_count": 7,
     "metadata": {},
     "output_type": "execute_result"
    }
   ],
   "source": [
    "rdg = Ridge(alpha=0.1) \n",
    "rdg.fit(X_train, y_train)\n",
    "y_pred_rdg = rdg.predict(X_test)\n",
    "r2_score(y_test, y_pred_rdg)"
   ]
  },
  {
   "cell_type": "markdown",
   "id": "8d3a96e2-0a9b-4b77-b0d5-206437c878a1",
   "metadata": {},
   "source": [
    "# Lasso"
   ]
  },
  {
   "cell_type": "code",
   "execution_count": 16,
   "id": "d410c7e1-0243-4008-8a54-868c4b79848c",
   "metadata": {},
   "outputs": [
    {
     "data": {
      "text/plain": [
       "0.4527856846095648"
      ]
     },
     "execution_count": 16,
     "metadata": {},
     "output_type": "execute_result"
    }
   ],
   "source": [
    "ls = Lasso(alpha=0.1) \n",
    "ls.fit(X_train, y_train)\n",
    "y_pred_ls = ls.predict(X_test)\n",
    "r2_score(y_test, y_pred_ls)"
   ]
  },
  {
   "cell_type": "markdown",
   "id": "73bd330b-50c0-4baa-b4d4-9ac50bd069bb",
   "metadata": {},
   "source": [
    "# ElasticNet"
   ]
  },
  {
   "cell_type": "code",
   "execution_count": 10,
   "id": "bc384f25-cd4c-4ec8-b69b-c6b9f2884a01",
   "metadata": {},
   "outputs": [
    {
     "data": {
      "text/plain": [
       "0.4649605688317171"
      ]
     },
     "execution_count": 10,
     "metadata": {},
     "output_type": "execute_result"
    }
   ],
   "source": [
    "eln = ElasticNet(alpha=0.005, l1_ratio = 0.9) \n",
    "eln.fit(X_train, y_train)\n",
    "y_pred_eln = eln.predict(X_test)\n",
    "r2_score(y_test, y_pred_eln)"
   ]
  },
  {
   "cell_type": "code",
   "execution_count": null,
   "id": "41cfe602-0808-478f-ae42-f3fc18b14a67",
   "metadata": {},
   "outputs": [],
   "source": []
  }
 ],
 "metadata": {
  "kernelspec": {
   "display_name": "Python 3 (ipykernel)",
   "language": "python",
   "name": "python3"
  },
  "language_info": {
   "codemirror_mode": {
    "name": "ipython",
    "version": 3
   },
   "file_extension": ".py",
   "mimetype": "text/x-python",
   "name": "python",
   "nbconvert_exporter": "python",
   "pygments_lexer": "ipython3",
   "version": "3.12.3"
  },
  "widgets": {
   "application/vnd.jupyter.widget-state+json": {
    "state": {},
    "version_major": 2,
    "version_minor": 0
   }
  }
 },
 "nbformat": 4,
 "nbformat_minor": 5
}
